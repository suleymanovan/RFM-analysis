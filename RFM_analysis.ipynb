{
 "cells": [
  {
   "cell_type": "code",
   "execution_count": 42,
   "metadata": {},
   "outputs": [],
   "source": [
    "# необходимые библиотеки\n",
    "import pandas as pd\n",
    "import numpy as np\n",
    "from datetime import datetime\n",
    "from datetime import timedelta\n",
    "import matplotlib.pyplot as plt"
   ]
  },
  {
   "cell_type": "code",
   "execution_count": 2,
   "metadata": {},
   "outputs": [
    {
     "data": {
      "text/html": [
       "<div>\n",
       "<style scoped>\n",
       "    .dataframe tbody tr th:only-of-type {\n",
       "        vertical-align: middle;\n",
       "    }\n",
       "\n",
       "    .dataframe tbody tr th {\n",
       "        vertical-align: top;\n",
       "    }\n",
       "\n",
       "    .dataframe thead th {\n",
       "        text-align: right;\n",
       "    }\n",
       "</style>\n",
       "<table border=\"1\" class=\"dataframe\">\n",
       "  <thead>\n",
       "    <tr style=\"text-align: right;\">\n",
       "      <th></th>\n",
       "      <th>order_id</th>\n",
       "      <th>order_number</th>\n",
       "      <th>create_date</th>\n",
       "      <th>product_id</th>\n",
       "      <th>product_name</th>\n",
       "      <th>product_price</th>\n",
       "      <th>summ</th>\n",
       "      <th>type_order</th>\n",
       "      <th>client_name</th>\n",
       "      <th>client_surname</th>\n",
       "      <th>...</th>\n",
       "      <th>fin_potok</th>\n",
       "      <th>utm_source</th>\n",
       "      <th>utm_medium</th>\n",
       "      <th>utm_campaign</th>\n",
       "      <th>utm_content</th>\n",
       "      <th>utm_term</th>\n",
       "      <th>utm_referrer</th>\n",
       "      <th>userId_YM</th>\n",
       "      <th>userId_GA</th>\n",
       "      <th>roistat_visitor</th>\n",
       "    </tr>\n",
       "  </thead>\n",
       "  <tbody>\n",
       "  </tbody>\n",
       "</table>\n",
       "<p>0 rows × 33 columns</p>\n",
       "</div>"
      ],
      "text/plain": [
       "Empty DataFrame\n",
       "Columns: [order_id, order_number, create_date, product_id, product_name, product_price, summ, type_order, client_name, client_surname, client_email, client_phone, client_city, client_address, client_index, client_comment, admin_comment, partner_id, status, payment_id, payment_name, payment_date, installment_ID, fin_potok, utm_source, utm_medium, utm_campaign, utm_content, utm_term, utm_referrer, userId_YM, userId_GA, roistat_visitor]\n",
       "Index: []\n",
       "\n",
       "[0 rows x 33 columns]"
      ]
     },
     "execution_count": 2,
     "metadata": {},
     "output_type": "execute_result"
    }
   ],
   "source": [
    "# загружаем наши данные по продажам за период 13/03/2021 - 21/04/2022\n",
    "df = pd.read_csv('C:\\\\Users\\\\HP\\\\Desktop\\\\Power BI AKZ\\\\orders.csv', sep=';')\n",
    "df.head(0)"
   ]
  },
  {
   "cell_type": "code",
   "execution_count": 3,
   "metadata": {},
   "outputs": [
    {
     "data": {
      "text/plain": [
       "Index(['order_id', 'order_number', 'create_date', 'product_id', 'product_name',\n",
       "       'product_price', 'summ', 'type_order', 'client_name', 'client_surname',\n",
       "       'client_email', 'client_phone', 'client_city', 'client_address',\n",
       "       'client_index', 'client_comment', 'admin_comment', 'partner_id',\n",
       "       'status', 'payment_id', 'payment_name', 'payment_date',\n",
       "       'installment_ID', 'fin_potok', 'utm_source', 'utm_medium',\n",
       "       'utm_campaign', 'utm_content', 'utm_term', 'utm_referrer', 'userId_YM',\n",
       "       'userId_GA', 'roistat_visitor'],\n",
       "      dtype='object')"
      ]
     },
     "execution_count": 3,
     "metadata": {},
     "output_type": "execute_result"
    }
   ],
   "source": [
    "df.columns"
   ]
  },
  {
   "cell_type": "code",
   "execution_count": 4,
   "metadata": {},
   "outputs": [],
   "source": [
    "# удалим ненужные колонки\n",
    "df = df.drop(['order_id', 'order_number', 'create_date', 'product_id', 'product_name', 'product_price', 'type_order', 'client_name', 'client_surname', 'client_city', 'client_address',\n",
    "       'client_index', 'client_comment', 'admin_comment', 'partner_id', 'status', 'payment_id', 'payment_name', 'installment_ID', 'fin_potok', 'utm_source', 'utm_medium',\n",
    "       'utm_campaign', 'utm_content', 'utm_term', 'utm_referrer', 'userId_YM', 'userId_GA', 'roistat_visitor'], axis=1)"
   ]
  },
  {
   "cell_type": "code",
   "execution_count": 5,
   "metadata": {},
   "outputs": [],
   "source": [
    "# приведем текст в формат даты\n",
    "df['date'] = pd.to_datetime(df['payment_date'], format='%d.%m.%Y %H:%M:%S')"
   ]
  },
  {
   "cell_type": "code",
   "execution_count": 6,
   "metadata": {},
   "outputs": [],
   "source": [
    "# находим частоту заказов frequency\n",
    "frequency = df['client_email'].value_counts()"
   ]
  },
  {
   "cell_type": "code",
   "execution_count": 7,
   "metadata": {},
   "outputs": [
    {
     "data": {
      "text/html": [
       "<div>\n",
       "<style scoped>\n",
       "    .dataframe tbody tr th:only-of-type {\n",
       "        vertical-align: middle;\n",
       "    }\n",
       "\n",
       "    .dataframe tbody tr th {\n",
       "        vertical-align: top;\n",
       "    }\n",
       "\n",
       "    .dataframe thead th {\n",
       "        text-align: right;\n",
       "    }\n",
       "</style>\n",
       "<table border=\"1\" class=\"dataframe\">\n",
       "  <thead>\n",
       "    <tr style=\"text-align: right;\">\n",
       "      <th></th>\n",
       "      <th>client_email</th>\n",
       "      <th>frequency</th>\n",
       "    </tr>\n",
       "  </thead>\n",
       "  <tbody>\n",
       "  </tbody>\n",
       "</table>\n",
       "</div>"
      ],
      "text/plain": [
       "Empty DataFrame\n",
       "Columns: [client_email, frequency]\n",
       "Index: []"
      ]
     },
     "execution_count": 7,
     "metadata": {},
     "output_type": "execute_result"
    }
   ],
   "source": [
    "# создадим датасет клиентов по частоте покупок\n",
    "df_frequency = pd.DataFrame({'client_email':frequency.index, 'frequency':frequency.values})\n",
    "df_frequency.head(0)"
   ]
  },
  {
   "cell_type": "code",
   "execution_count": 8,
   "metadata": {},
   "outputs": [
    {
     "data": {
      "text/html": [
       "<div>\n",
       "<style scoped>\n",
       "    .dataframe tbody tr th:only-of-type {\n",
       "        vertical-align: middle;\n",
       "    }\n",
       "\n",
       "    .dataframe tbody tr th {\n",
       "        vertical-align: top;\n",
       "    }\n",
       "\n",
       "    .dataframe thead th {\n",
       "        text-align: right;\n",
       "    }\n",
       "</style>\n",
       "<table border=\"1\" class=\"dataframe\">\n",
       "  <thead>\n",
       "    <tr style=\"text-align: right;\">\n",
       "      <th></th>\n",
       "      <th>frequency</th>\n",
       "    </tr>\n",
       "  </thead>\n",
       "  <tbody>\n",
       "    <tr>\n",
       "      <th>count</th>\n",
       "      <td>12666.000000</td>\n",
       "    </tr>\n",
       "    <tr>\n",
       "      <th>mean</th>\n",
       "      <td>1.743565</td>\n",
       "    </tr>\n",
       "    <tr>\n",
       "      <th>std</th>\n",
       "      <td>1.833691</td>\n",
       "    </tr>\n",
       "    <tr>\n",
       "      <th>min</th>\n",
       "      <td>1.000000</td>\n",
       "    </tr>\n",
       "    <tr>\n",
       "      <th>20%</th>\n",
       "      <td>1.000000</td>\n",
       "    </tr>\n",
       "    <tr>\n",
       "      <th>40%</th>\n",
       "      <td>1.000000</td>\n",
       "    </tr>\n",
       "    <tr>\n",
       "      <th>50%</th>\n",
       "      <td>1.000000</td>\n",
       "    </tr>\n",
       "    <tr>\n",
       "      <th>60%</th>\n",
       "      <td>1.000000</td>\n",
       "    </tr>\n",
       "    <tr>\n",
       "      <th>80%</th>\n",
       "      <td>2.000000</td>\n",
       "    </tr>\n",
       "    <tr>\n",
       "      <th>90%</th>\n",
       "      <td>4.000000</td>\n",
       "    </tr>\n",
       "    <tr>\n",
       "      <th>99%</th>\n",
       "      <td>9.000000</td>\n",
       "    </tr>\n",
       "    <tr>\n",
       "      <th>max</th>\n",
       "      <td>16.000000</td>\n",
       "    </tr>\n",
       "  </tbody>\n",
       "</table>\n",
       "</div>"
      ],
      "text/plain": [
       "          frequency\n",
       "count  12666.000000\n",
       "mean       1.743565\n",
       "std        1.833691\n",
       "min        1.000000\n",
       "20%        1.000000\n",
       "40%        1.000000\n",
       "50%        1.000000\n",
       "60%        1.000000\n",
       "80%        2.000000\n",
       "90%        4.000000\n",
       "99%        9.000000\n",
       "max       16.000000"
      ]
     },
     "execution_count": 8,
     "metadata": {},
     "output_type": "execute_result"
    }
   ],
   "source": [
    "# посмотрим статистику по датасету\n",
    "df_frequency.describe(percentiles = [0.20, 0.40, 0.60, 0.80, 0.90, 0.99])\n",
    "\n",
    "# видим, что средняя частота покупок одним клиентом за данный период - 1,7, минимум - 1 заказ, максимум - 16 заказов.\n",
    "# 60% клиентов делали заказы не более 1 раза."
   ]
  },
  {
   "cell_type": "code",
   "execution_count": 9,
   "metadata": {},
   "outputs": [],
   "source": [
    "# находим общую сумму оплат по каждому клиенту (LTV)\n",
    "df_sum = df.groupby('client_email').sum().groupby(level=[0]).cumsum()"
   ]
  },
  {
   "cell_type": "code",
   "execution_count": 10,
   "metadata": {},
   "outputs": [
    {
     "data": {
      "text/html": [
       "<div>\n",
       "<style scoped>\n",
       "    .dataframe tbody tr th:only-of-type {\n",
       "        vertical-align: middle;\n",
       "    }\n",
       "\n",
       "    .dataframe tbody tr th {\n",
       "        vertical-align: top;\n",
       "    }\n",
       "\n",
       "    .dataframe thead th {\n",
       "        text-align: right;\n",
       "    }\n",
       "</style>\n",
       "<table border=\"1\" class=\"dataframe\">\n",
       "  <thead>\n",
       "    <tr style=\"text-align: right;\">\n",
       "      <th></th>\n",
       "      <th>total_value</th>\n",
       "    </tr>\n",
       "    <tr>\n",
       "      <th>client_email</th>\n",
       "      <th></th>\n",
       "    </tr>\n",
       "  </thead>\n",
       "  <tbody>\n",
       "  </tbody>\n",
       "</table>\n",
       "</div>"
      ],
      "text/plain": [
       "Empty DataFrame\n",
       "Columns: [total_value]\n",
       "Index: []"
      ]
     },
     "execution_count": 10,
     "metadata": {},
     "output_type": "execute_result"
    }
   ],
   "source": [
    "# переименуем колонку с суммой, чтобы не запутаться\n",
    "df_sum.rename(columns = {'summ': 'total_value'}, inplace = True)\n",
    "df_sum.head(0)"
   ]
  },
  {
   "cell_type": "code",
   "execution_count": 11,
   "metadata": {},
   "outputs": [],
   "source": [
    "# найдем даты последних заказов по каждому клиенту\n",
    "df_last_order = df.sort_values('date').groupby('client_email').last()"
   ]
  },
  {
   "cell_type": "code",
   "execution_count": 12,
   "metadata": {},
   "outputs": [
    {
     "data": {
      "text/html": [
       "<div>\n",
       "<style scoped>\n",
       "    .dataframe tbody tr th:only-of-type {\n",
       "        vertical-align: middle;\n",
       "    }\n",
       "\n",
       "    .dataframe tbody tr th {\n",
       "        vertical-align: top;\n",
       "    }\n",
       "\n",
       "    .dataframe thead th {\n",
       "        text-align: right;\n",
       "    }\n",
       "</style>\n",
       "<table border=\"1\" class=\"dataframe\">\n",
       "  <thead>\n",
       "    <tr style=\"text-align: right;\">\n",
       "      <th></th>\n",
       "      <th>summ</th>\n",
       "      <th>client_phone</th>\n",
       "      <th>payment_date</th>\n",
       "      <th>last_date</th>\n",
       "    </tr>\n",
       "    <tr>\n",
       "      <th>client_email</th>\n",
       "      <th></th>\n",
       "      <th></th>\n",
       "      <th></th>\n",
       "      <th></th>\n",
       "    </tr>\n",
       "  </thead>\n",
       "  <tbody>\n",
       "  </tbody>\n",
       "</table>\n",
       "</div>"
      ],
      "text/plain": [
       "Empty DataFrame\n",
       "Columns: [summ, client_phone, payment_date, last_date]\n",
       "Index: []"
      ]
     },
     "execution_count": 12,
     "metadata": {},
     "output_type": "execute_result"
    }
   ],
   "source": [
    "# переименуем колонку с датой\n",
    "df_last_order.rename(columns = {'date': 'last_date'}, inplace = True)\n",
    "df_last_order.head(0)"
   ]
  },
  {
   "cell_type": "code",
   "execution_count": 13,
   "metadata": {},
   "outputs": [],
   "source": [
    "# удалим из датафрейма не нужную нам колонку с суммой\n",
    "df_last_order = df_last_order.drop(['summ'], axis=1)"
   ]
  },
  {
   "cell_type": "code",
   "execution_count": 14,
   "metadata": {},
   "outputs": [
    {
     "data": {
      "text/html": [
       "<div>\n",
       "<style scoped>\n",
       "    .dataframe tbody tr th:only-of-type {\n",
       "        vertical-align: middle;\n",
       "    }\n",
       "\n",
       "    .dataframe tbody tr th {\n",
       "        vertical-align: top;\n",
       "    }\n",
       "\n",
       "    .dataframe thead th {\n",
       "        text-align: right;\n",
       "    }\n",
       "</style>\n",
       "<table border=\"1\" class=\"dataframe\">\n",
       "  <thead>\n",
       "    <tr style=\"text-align: right;\">\n",
       "      <th></th>\n",
       "      <th>client_phone</th>\n",
       "      <th>payment_date</th>\n",
       "      <th>last_date</th>\n",
       "      <th>total_value</th>\n",
       "    </tr>\n",
       "    <tr>\n",
       "      <th>client_email</th>\n",
       "      <th></th>\n",
       "      <th></th>\n",
       "      <th></th>\n",
       "      <th></th>\n",
       "    </tr>\n",
       "  </thead>\n",
       "  <tbody>\n",
       "  </tbody>\n",
       "</table>\n",
       "</div>"
      ],
      "text/plain": [
       "Empty DataFrame\n",
       "Columns: [client_phone, payment_date, last_date, total_value]\n",
       "Index: []"
      ]
     },
     "execution_count": 14,
     "metadata": {},
     "output_type": "execute_result"
    }
   ],
   "source": [
    "# объединяем два датасета - с LTV клиента и датой его последнего заказа по client_email\n",
    "df_merge = df_last_order.merge(df_sum, on='client_email')\n",
    "df_merge.head(0)"
   ]
  },
  {
   "cell_type": "code",
   "execution_count": 15,
   "metadata": {},
   "outputs": [
    {
     "data": {
      "text/html": [
       "<div>\n",
       "<style scoped>\n",
       "    .dataframe tbody tr th:only-of-type {\n",
       "        vertical-align: middle;\n",
       "    }\n",
       "\n",
       "    .dataframe tbody tr th {\n",
       "        vertical-align: top;\n",
       "    }\n",
       "\n",
       "    .dataframe thead th {\n",
       "        text-align: right;\n",
       "    }\n",
       "</style>\n",
       "<table border=\"1\" class=\"dataframe\">\n",
       "  <thead>\n",
       "    <tr style=\"text-align: right;\">\n",
       "      <th></th>\n",
       "      <th>total_value</th>\n",
       "    </tr>\n",
       "  </thead>\n",
       "  <tbody>\n",
       "    <tr>\n",
       "      <th>count</th>\n",
       "      <td>12666.000000</td>\n",
       "    </tr>\n",
       "    <tr>\n",
       "      <th>mean</th>\n",
       "      <td>7596.674562</td>\n",
       "    </tr>\n",
       "    <tr>\n",
       "      <th>std</th>\n",
       "      <td>5710.544383</td>\n",
       "    </tr>\n",
       "    <tr>\n",
       "      <th>min</th>\n",
       "      <td>50.000000</td>\n",
       "    </tr>\n",
       "    <tr>\n",
       "      <th>25%</th>\n",
       "      <td>4000.000000</td>\n",
       "    </tr>\n",
       "    <tr>\n",
       "      <th>50%</th>\n",
       "      <td>6490.000000</td>\n",
       "    </tr>\n",
       "    <tr>\n",
       "      <th>75%</th>\n",
       "      <td>7735.000000</td>\n",
       "    </tr>\n",
       "    <tr>\n",
       "      <th>90%</th>\n",
       "      <td>13990.000000</td>\n",
       "    </tr>\n",
       "    <tr>\n",
       "      <th>95%</th>\n",
       "      <td>18960.000000</td>\n",
       "    </tr>\n",
       "    <tr>\n",
       "      <th>99%</th>\n",
       "      <td>32368.800000</td>\n",
       "    </tr>\n",
       "    <tr>\n",
       "      <th>max</th>\n",
       "      <td>80300.000000</td>\n",
       "    </tr>\n",
       "  </tbody>\n",
       "</table>\n",
       "</div>"
      ],
      "text/plain": [
       "        total_value\n",
       "count  12666.000000\n",
       "mean    7596.674562\n",
       "std     5710.544383\n",
       "min       50.000000\n",
       "25%     4000.000000\n",
       "50%     6490.000000\n",
       "75%     7735.000000\n",
       "90%    13990.000000\n",
       "95%    18960.000000\n",
       "99%    32368.800000\n",
       "max    80300.000000"
      ]
     },
     "execution_count": 15,
     "metadata": {},
     "output_type": "execute_result"
    }
   ],
   "source": [
    "df_merge.describe(percentiles=[0.25, 0.50, 0.75, 0.90, 0.95, 0.99])\n",
    "# существует значительная разница между максимальной суммой всех заказов одного покупателя и 99% остальных клиентов"
   ]
  },
  {
   "cell_type": "code",
   "execution_count": 16,
   "metadata": {},
   "outputs": [
    {
     "data": {
      "text/html": [
       "<div>\n",
       "<style scoped>\n",
       "    .dataframe tbody tr th:only-of-type {\n",
       "        vertical-align: middle;\n",
       "    }\n",
       "\n",
       "    .dataframe tbody tr th {\n",
       "        vertical-align: top;\n",
       "    }\n",
       "\n",
       "    .dataframe thead th {\n",
       "        text-align: right;\n",
       "    }\n",
       "</style>\n",
       "<table border=\"1\" class=\"dataframe\">\n",
       "  <thead>\n",
       "    <tr style=\"text-align: right;\">\n",
       "      <th></th>\n",
       "      <th>client_phone</th>\n",
       "      <th>payment_date</th>\n",
       "      <th>last_date</th>\n",
       "      <th>total_value</th>\n",
       "    </tr>\n",
       "    <tr>\n",
       "      <th>client_email</th>\n",
       "      <th></th>\n",
       "      <th></th>\n",
       "      <th></th>\n",
       "      <th></th>\n",
       "    </tr>\n",
       "  </thead>\n",
       "  <tbody>\n",
       "  </tbody>\n",
       "</table>\n",
       "</div>"
      ],
      "text/plain": [
       "Empty DataFrame\n",
       "Columns: [client_phone, payment_date, last_date, total_value]\n",
       "Index: []"
      ]
     },
     "execution_count": 16,
     "metadata": {},
     "output_type": "execute_result"
    }
   ],
   "source": [
    "# найдем клиентов с общей суммой всех заказов свыше 32368,8 выделим в отдельный RFM сегмент most_buy \n",
    "most_buy = df_merge[df_merge['total_value'] > 32368.80]\n",
    "most_buy.head(0)"
   ]
  },
  {
   "cell_type": "code",
   "execution_count": 17,
   "metadata": {},
   "outputs": [
    {
     "data": {
      "text/plain": [
       "(127, 4)"
      ]
     },
     "execution_count": 17,
     "metadata": {},
     "output_type": "execute_result"
    }
   ],
   "source": [
    "# количество таких клиентов - 127 (1% от всех).\n",
    "most_buy.shape"
   ]
  },
  {
   "cell_type": "code",
   "execution_count": 18,
   "metadata": {},
   "outputs": [],
   "source": [
    "# отсортируем датасет по последней дате заказа, чтобы выделить клиентов, которых нужно вернуть.\n",
    "most_buy = most_buy.sort_values(by='last_date')"
   ]
  },
  {
   "cell_type": "code",
   "execution_count": 19,
   "metadata": {},
   "outputs": [],
   "source": [
    "# импортируем в файл для дальнейшей работы с этими клиентами\n",
    "most_buy.to_csv('most_buy.csv')"
   ]
  },
  {
   "cell_type": "code",
   "execution_count": 20,
   "metadata": {},
   "outputs": [],
   "source": [
    "# добавим в объединенный датасет сегодняшнюю дату\n",
    "today = '2022-04-21'\n",
    "df_merge['current_date'] = today\n",
    "df_merge['current_date'] = pd.to_datetime(df_merge['current_date'], format='%Y-%m-%d')"
   ]
  },
  {
   "cell_type": "code",
   "execution_count": 21,
   "metadata": {},
   "outputs": [],
   "source": [
    "# посчитаем сколько дней назад последний раз был заказ у клиента, так мы сможем найти клиентов в оттоке.\n",
    "df_merge['churn_time'] = df_merge['current_date'] - df_merge['last_date']"
   ]
  },
  {
   "cell_type": "code",
   "execution_count": 22,
   "metadata": {},
   "outputs": [
    {
     "data": {
      "text/html": [
       "<div>\n",
       "<style scoped>\n",
       "    .dataframe tbody tr th:only-of-type {\n",
       "        vertical-align: middle;\n",
       "    }\n",
       "\n",
       "    .dataframe tbody tr th {\n",
       "        vertical-align: top;\n",
       "    }\n",
       "\n",
       "    .dataframe thead th {\n",
       "        text-align: right;\n",
       "    }\n",
       "</style>\n",
       "<table border=\"1\" class=\"dataframe\">\n",
       "  <thead>\n",
       "    <tr style=\"text-align: right;\">\n",
       "      <th></th>\n",
       "      <th>total_value</th>\n",
       "      <th>churn_time</th>\n",
       "    </tr>\n",
       "  </thead>\n",
       "  <tbody>\n",
       "    <tr>\n",
       "      <th>count</th>\n",
       "      <td>12666.000000</td>\n",
       "      <td>12666</td>\n",
       "    </tr>\n",
       "    <tr>\n",
       "      <th>mean</th>\n",
       "      <td>7596.674562</td>\n",
       "      <td>164 days 01:19:31.626322364</td>\n",
       "    </tr>\n",
       "    <tr>\n",
       "      <th>std</th>\n",
       "      <td>5710.544383</td>\n",
       "      <td>111 days 17:14:29.600725006</td>\n",
       "    </tr>\n",
       "    <tr>\n",
       "      <th>min</th>\n",
       "      <td>50.000000</td>\n",
       "      <td>-1 days +06:59:36</td>\n",
       "    </tr>\n",
       "    <tr>\n",
       "      <th>25%</th>\n",
       "      <td>4000.000000</td>\n",
       "      <td>70 days 10:59:17.250000</td>\n",
       "    </tr>\n",
       "    <tr>\n",
       "      <th>50%</th>\n",
       "      <td>6490.000000</td>\n",
       "      <td>144 days 02:54:46</td>\n",
       "    </tr>\n",
       "    <tr>\n",
       "      <th>75%</th>\n",
       "      <td>7735.000000</td>\n",
       "      <td>261 days 03:04:10</td>\n",
       "    </tr>\n",
       "    <tr>\n",
       "      <th>90%</th>\n",
       "      <td>13990.000000</td>\n",
       "      <td>326 days 10:47:33.500000</td>\n",
       "    </tr>\n",
       "    <tr>\n",
       "      <th>99%</th>\n",
       "      <td>32368.800000</td>\n",
       "      <td>403 days 09:47:46.800000</td>\n",
       "    </tr>\n",
       "    <tr>\n",
       "      <th>max</th>\n",
       "      <td>80300.000000</td>\n",
       "      <td>447 days 14:55:16</td>\n",
       "    </tr>\n",
       "  </tbody>\n",
       "</table>\n",
       "</div>"
      ],
      "text/plain": [
       "        total_value                   churn_time\n",
       "count  12666.000000                        12666\n",
       "mean    7596.674562  164 days 01:19:31.626322364\n",
       "std     5710.544383  111 days 17:14:29.600725006\n",
       "min       50.000000            -1 days +06:59:36\n",
       "25%     4000.000000      70 days 10:59:17.250000\n",
       "50%     6490.000000            144 days 02:54:46\n",
       "75%     7735.000000            261 days 03:04:10\n",
       "90%    13990.000000     326 days 10:47:33.500000\n",
       "99%    32368.800000     403 days 09:47:46.800000\n",
       "max    80300.000000            447 days 14:55:16"
      ]
     },
     "execution_count": 22,
     "metadata": {},
     "output_type": "execute_result"
    }
   ],
   "source": [
    "df_merge.describe(percentiles=[0.25, 0.50, 0.75, 0.90, 0.99])"
   ]
  },
  {
   "cell_type": "code",
   "execution_count": 23,
   "metadata": {},
   "outputs": [
    {
     "data": {
      "text/html": [
       "<div>\n",
       "<style scoped>\n",
       "    .dataframe tbody tr th:only-of-type {\n",
       "        vertical-align: middle;\n",
       "    }\n",
       "\n",
       "    .dataframe tbody tr th {\n",
       "        vertical-align: top;\n",
       "    }\n",
       "\n",
       "    .dataframe thead th {\n",
       "        text-align: right;\n",
       "    }\n",
       "</style>\n",
       "<table border=\"1\" class=\"dataframe\">\n",
       "  <thead>\n",
       "    <tr style=\"text-align: right;\">\n",
       "      <th></th>\n",
       "      <th>client_email</th>\n",
       "      <th>client_phone</th>\n",
       "      <th>payment_date</th>\n",
       "      <th>last_date</th>\n",
       "      <th>total_value</th>\n",
       "      <th>current_date</th>\n",
       "      <th>churn_time</th>\n",
       "      <th>frequency</th>\n",
       "    </tr>\n",
       "  </thead>\n",
       "  <tbody>\n",
       "  </tbody>\n",
       "</table>\n",
       "</div>"
      ],
      "text/plain": [
       "Empty DataFrame\n",
       "Columns: [client_email, client_phone, payment_date, last_date, total_value, current_date, churn_time, frequency]\n",
       "Index: []"
      ]
     },
     "execution_count": 23,
     "metadata": {},
     "output_type": "execute_result"
    }
   ],
   "source": [
    "# объединим датасет с частотой покупок\n",
    "df_merge_frequency = df_merge.merge(df_frequency, on='client_email')\n",
    "df_merge_frequency.head(0)"
   ]
  },
  {
   "cell_type": "code",
   "execution_count": 24,
   "metadata": {},
   "outputs": [],
   "source": [
    "# найдем клиентов, которые последний раз покупали более 6 месяцев назад, отсортируем по убыванию суммы покупок\n",
    "# таких клиентов - 5291 чел, 42%\n",
    "churn = df_merge_frequency[df_merge_frequency['churn_time'] > '180 days'].sort_values(by='total_value', ascending=False)\n",
    "churn = churn.drop(['current_date'], axis=1)"
   ]
  },
  {
   "cell_type": "code",
   "execution_count": 25,
   "metadata": {},
   "outputs": [],
   "source": [
    "# импортируем в файл для дальнейшей работы с этими клиентами\n",
    "churn.to_csv('churn.csv')"
   ]
  },
  {
   "cell_type": "code",
   "execution_count": 26,
   "metadata": {},
   "outputs": [
    {
     "data": {
      "text/html": [
       "<div>\n",
       "<style scoped>\n",
       "    .dataframe tbody tr th:only-of-type {\n",
       "        vertical-align: middle;\n",
       "    }\n",
       "\n",
       "    .dataframe tbody tr th {\n",
       "        vertical-align: top;\n",
       "    }\n",
       "\n",
       "    .dataframe thead th {\n",
       "        text-align: right;\n",
       "    }\n",
       "</style>\n",
       "<table border=\"1\" class=\"dataframe\">\n",
       "  <thead>\n",
       "    <tr style=\"text-align: right;\">\n",
       "      <th></th>\n",
       "      <th>client_email</th>\n",
       "      <th>client_phone</th>\n",
       "      <th>payment_date</th>\n",
       "      <th>last_date</th>\n",
       "      <th>total_value</th>\n",
       "      <th>current_date</th>\n",
       "      <th>churn_time</th>\n",
       "      <th>frequency</th>\n",
       "      <th>M</th>\n",
       "    </tr>\n",
       "  </thead>\n",
       "  <tbody>\n",
       "  </tbody>\n",
       "</table>\n",
       "</div>"
      ],
      "text/plain": [
       "Empty DataFrame\n",
       "Columns: [client_email, client_phone, payment_date, last_date, total_value, current_date, churn_time, frequency, M]\n",
       "Index: []"
      ]
     },
     "execution_count": 26,
     "metadata": {},
     "output_type": "execute_result"
    }
   ],
   "source": [
    "# переходим к RFM-сегментации, добавляем коэффициент Monetary по сумме покупок (M):\n",
    "# 3 — маленькая сумма (до 6990 руб.);\n",
    "# 2 — средняя сумма (до 18960 руб.);\n",
    "# 1 — большая сумма (свыше 18960 руб.).\n",
    "df_merge_frequency['M'] = [2 if x > 6990 else 3 for x in df_merge_frequency['total_value']]\n",
    "df_merge_frequency.loc[df_merge_frequency['total_value'] > 18960, 'M'] = 1\n",
    "df_merge_frequency.head(0)"
   ]
  },
  {
   "cell_type": "code",
   "execution_count": 27,
   "metadata": {},
   "outputs": [
    {
     "data": {
      "text/html": [
       "<div>\n",
       "<style scoped>\n",
       "    .dataframe tbody tr th:only-of-type {\n",
       "        vertical-align: middle;\n",
       "    }\n",
       "\n",
       "    .dataframe tbody tr th {\n",
       "        vertical-align: top;\n",
       "    }\n",
       "\n",
       "    .dataframe thead th {\n",
       "        text-align: right;\n",
       "    }\n",
       "</style>\n",
       "<table border=\"1\" class=\"dataframe\">\n",
       "  <thead>\n",
       "    <tr style=\"text-align: right;\">\n",
       "      <th></th>\n",
       "      <th>client_email</th>\n",
       "      <th>client_phone</th>\n",
       "      <th>payment_date</th>\n",
       "      <th>last_date</th>\n",
       "      <th>total_value</th>\n",
       "      <th>current_date</th>\n",
       "      <th>churn_time</th>\n",
       "      <th>frequency</th>\n",
       "      <th>M</th>\n",
       "      <th>F</th>\n",
       "    </tr>\n",
       "  </thead>\n",
       "  <tbody>\n",
       "  </tbody>\n",
       "</table>\n",
       "</div>"
      ],
      "text/plain": [
       "Empty DataFrame\n",
       "Columns: [client_email, client_phone, payment_date, last_date, total_value, current_date, churn_time, frequency, M, F]\n",
       "Index: []"
      ]
     },
     "execution_count": 27,
     "metadata": {},
     "output_type": "execute_result"
    }
   ],
   "source": [
    "# рассчитаем индекс частоты заказов Frequency (F):\n",
    "# 3 — покупает редко (1 раз в год);\n",
    "# 2 — покупает нечасто (2-4 заказа в год);\n",
    "# 1 — покупает часто (от 5 заказов).\n",
    "df_merge_frequency['F'] = [2 if x >= 2 else 3 for x in df_merge_frequency['frequency']]\n",
    "df_merge_frequency.loc[df_merge_frequency['frequency'] > 4, 'F'] = 1\n",
    "df_merge_frequency.head(0)"
   ]
  },
  {
   "cell_type": "code",
   "execution_count": 28,
   "metadata": {},
   "outputs": [],
   "source": [
    "# рассчитаем индекс давности заказа Recency (R):\n",
    "# 3 — спящие клиенты (больше года назад);\n",
    "# 2 — давние клиенты (от 6 месяцев до года);\n",
    "# 1 — недавние клиенты (от 0 до 6 месяцев).\n",
    "delta3 = timedelta(days=365, hours=0, minutes=0) \n",
    "delta2 = timedelta(days=180, hours=0, minutes=0)\n",
    "delta1 = timedelta(days=0, hours=0, minutes=0)"
   ]
  },
  {
   "cell_type": "code",
   "execution_count": 29,
   "metadata": {},
   "outputs": [
    {
     "data": {
      "text/html": [
       "<div>\n",
       "<style scoped>\n",
       "    .dataframe tbody tr th:only-of-type {\n",
       "        vertical-align: middle;\n",
       "    }\n",
       "\n",
       "    .dataframe tbody tr th {\n",
       "        vertical-align: top;\n",
       "    }\n",
       "\n",
       "    .dataframe thead th {\n",
       "        text-align: right;\n",
       "    }\n",
       "</style>\n",
       "<table border=\"1\" class=\"dataframe\">\n",
       "  <thead>\n",
       "    <tr style=\"text-align: right;\">\n",
       "      <th></th>\n",
       "      <th>client_email</th>\n",
       "      <th>client_phone</th>\n",
       "      <th>payment_date</th>\n",
       "      <th>last_date</th>\n",
       "      <th>total_value</th>\n",
       "      <th>current_date</th>\n",
       "      <th>churn_time</th>\n",
       "      <th>frequency</th>\n",
       "      <th>M</th>\n",
       "      <th>F</th>\n",
       "      <th>R</th>\n",
       "    </tr>\n",
       "  </thead>\n",
       "  <tbody>\n",
       "  </tbody>\n",
       "</table>\n",
       "</div>"
      ],
      "text/plain": [
       "Empty DataFrame\n",
       "Columns: [client_email, client_phone, payment_date, last_date, total_value, current_date, churn_time, frequency, M, F, R]\n",
       "Index: []"
      ]
     },
     "execution_count": 29,
     "metadata": {},
     "output_type": "execute_result"
    }
   ],
   "source": [
    "df_merge_frequency['R'] = [2 if x > delta2 else 1 for x in df_merge_frequency['churn_time']]\n",
    "df_merge_frequency.loc[df_merge_frequency['churn_time'] > delta3, 'R'] = 3\n",
    "df_merge_frequency.head(0)"
   ]
  },
  {
   "cell_type": "code",
   "execution_count": 30,
   "metadata": {},
   "outputs": [],
   "source": [
    "# импортируем данные в файл для дальнейшего использования для целей маркетинга\n",
    "df_rfm = df_merge_frequency.drop(['current_date'], axis=1) \n",
    "df_rfm.to_csv('rfm_analysis.csv')"
   ]
  },
  {
   "cell_type": "code",
   "execution_count": 43,
   "metadata": {},
   "outputs": [],
   "source": [
    "# создадим сводную таблицу по кол-ву клиентов в каждрй категории (комбинации  индекса RFM)\n",
    "# сначала создадим столбец с комбинацией\n",
    "df_rfm['R'] = df_rfm['R'].astype(str)\n",
    "df_rfm['F'] = df_rfm['F'].astype(str)\n",
    "df_rfm['M'] = df_rfm['M'].astype(str)\n",
    "df_rfm['RFM'] = df_rfm['R'] + df_rfm['F'] + df_rfm['M']"
   ]
  },
  {
   "cell_type": "code",
   "execution_count": 46,
   "metadata": {},
   "outputs": [
    {
     "data": {
      "text/html": [
       "<div>\n",
       "<style scoped>\n",
       "    .dataframe tbody tr th:only-of-type {\n",
       "        vertical-align: middle;\n",
       "    }\n",
       "\n",
       "    .dataframe tbody tr th {\n",
       "        vertical-align: top;\n",
       "    }\n",
       "\n",
       "    .dataframe thead th {\n",
       "        text-align: right;\n",
       "    }\n",
       "</style>\n",
       "<table border=\"1\" class=\"dataframe\">\n",
       "  <thead>\n",
       "    <tr style=\"text-align: right;\">\n",
       "      <th></th>\n",
       "      <th>client_email</th>\n",
       "    </tr>\n",
       "    <tr>\n",
       "      <th>RFM</th>\n",
       "      <th></th>\n",
       "    </tr>\n",
       "  </thead>\n",
       "  <tbody>\n",
       "    <tr>\n",
       "      <th>111</th>\n",
       "      <td>498</td>\n",
       "    </tr>\n",
       "    <tr>\n",
       "      <th>112</th>\n",
       "      <td>552</td>\n",
       "    </tr>\n",
       "    <tr>\n",
       "      <th>121</th>\n",
       "      <td>108</td>\n",
       "    </tr>\n",
       "    <tr>\n",
       "      <th>122</th>\n",
       "      <td>1067</td>\n",
       "    </tr>\n",
       "    <tr>\n",
       "      <th>123</th>\n",
       "      <td>417</td>\n",
       "    </tr>\n",
       "    <tr>\n",
       "      <th>131</th>\n",
       "      <td>9</td>\n",
       "    </tr>\n",
       "    <tr>\n",
       "      <th>132</th>\n",
       "      <td>374</td>\n",
       "    </tr>\n",
       "    <tr>\n",
       "      <th>133</th>\n",
       "      <td>4505</td>\n",
       "    </tr>\n",
       "    <tr>\n",
       "      <th>221</th>\n",
       "      <td>16</td>\n",
       "    </tr>\n",
       "    <tr>\n",
       "      <th>222</th>\n",
       "      <td>316</td>\n",
       "    </tr>\n",
       "    <tr>\n",
       "      <th>223</th>\n",
       "      <td>32</td>\n",
       "    </tr>\n",
       "    <tr>\n",
       "      <th>231</th>\n",
       "      <td>2</td>\n",
       "    </tr>\n",
       "    <tr>\n",
       "      <th>232</th>\n",
       "      <td>446</td>\n",
       "    </tr>\n",
       "    <tr>\n",
       "      <th>233</th>\n",
       "      <td>4006</td>\n",
       "    </tr>\n",
       "    <tr>\n",
       "      <th>323</th>\n",
       "      <td>1</td>\n",
       "    </tr>\n",
       "    <tr>\n",
       "      <th>333</th>\n",
       "      <td>317</td>\n",
       "    </tr>\n",
       "  </tbody>\n",
       "</table>\n",
       "</div>"
      ],
      "text/plain": [
       "     client_email\n",
       "RFM              \n",
       "111           498\n",
       "112           552\n",
       "121           108\n",
       "122          1067\n",
       "123           417\n",
       "131             9\n",
       "132           374\n",
       "133          4505\n",
       "221            16\n",
       "222           316\n",
       "223            32\n",
       "231             2\n",
       "232           446\n",
       "233          4006\n",
       "323             1\n",
       "333           317"
      ]
     },
     "execution_count": 46,
     "metadata": {},
     "output_type": "execute_result"
    }
   ],
   "source": [
    "df_pivot = df_rfm.pivot_table(index='RFM', values='client_email', aggfunc='count')\n",
    "df_pivot"
   ]
  },
  {
   "cell_type": "code",
   "execution_count": 48,
   "metadata": {},
   "outputs": [
    {
     "data": {
      "text/plain": [
       "<AxesSubplot:title={'center':'Количество клиентов в каждом сегменте RFM'}, xlabel='RFM', ylabel='client_email'>"
      ]
     },
     "execution_count": 48,
     "metadata": {},
     "output_type": "execute_result"
    },
    {
     "data": {
      "image/png": "[encoded data removed]",
      "text/plain": [
       "<Figure size 936x432 with 1 Axes>"
      ]
     },
     "metadata": {
      "needs_background": "light"
     },
     "output_type": "display_data"
    }
   ],
   "source": [
    "# Визуализируем нашу сводную таблицу, чтобы увидеть наглядно какое кол-во клиентов есть в каждом сегменте\n",
    "from pylab import rcParams\n",
    "rcParams['figure.figsize'] = 13,6 #увеличим дефолтный размер графиков\n",
    "\n",
    "df_pivot.plot(kind='bar', \n",
    "            title='Количество клиентов в каждом сегменте RFM',\n",
    "            xlabel='RFM',\n",
    "            ylabel='client_email',\n",
    "            color=[['pink', 'green', 'blue', 'cyan', 'yellow', 'violet', 'grey', 'orange', 'purple', 'brown']])\n",
    "# Видим, что самая многочисленная категория - комбинация 133 - недавние разовые клиенты с низким чеком"
   ]
  },
  {
   "cell_type": "code",
   "execution_count": 40,
   "metadata": {},
   "outputs": [
    {
     "data": {
      "text/html": [
       "<div>\n",
       "<style scoped>\n",
       "    .dataframe tbody tr th:only-of-type {\n",
       "        vertical-align: middle;\n",
       "    }\n",
       "\n",
       "    .dataframe tbody tr th {\n",
       "        vertical-align: top;\n",
       "    }\n",
       "\n",
       "    .dataframe thead th {\n",
       "        text-align: right;\n",
       "    }\n",
       "</style>\n",
       "<table border=\"1\" class=\"dataframe\">\n",
       "  <thead>\n",
       "    <tr style=\"text-align: right;\">\n",
       "      <th></th>\n",
       "      <th>client_email</th>\n",
       "      <th>client_phone</th>\n",
       "      <th>payment_date</th>\n",
       "      <th>last_date</th>\n",
       "      <th>total_value</th>\n",
       "      <th>churn_time</th>\n",
       "      <th>frequency</th>\n",
       "      <th>M</th>\n",
       "      <th>F</th>\n",
       "      <th>R</th>\n",
       "    </tr>\n",
       "  </thead>\n",
       "  <tbody>\n",
       "  </tbody>\n",
       "</table>\n",
       "</div>"
      ],
      "text/plain": [
       "Empty DataFrame\n",
       "Columns: [client_email, client_phone, payment_date, last_date, total_value, churn_time, frequency, M, F, R]\n",
       "Index: []"
      ]
     },
     "execution_count": 40,
     "metadata": {},
     "output_type": "execute_result"
    }
   ],
   "source": [
    "# выделим сегмент attention - крупные клиенты с датами последних заказов от 6 месяцев до года, для работы с оттоком\n",
    "attention_raw = df_rfm.loc[df_rfm ['M'] == 1]\n",
    "attention = attention_raw.loc[attention_raw ['R'] == 2]\n",
    "attention.head(0)"
   ]
  },
  {
   "cell_type": "code",
   "execution_count": 41,
   "metadata": {},
   "outputs": [],
   "source": [
    "# импортируем в файл для дальнейшего использования\n",
    "attention.to_csv('attention.csv')"
   ]
  },
  {
   "cell_type": "code",
   "execution_count": 42,
   "metadata": {},
   "outputs": [
    {
     "data": {
      "text/html": [
       "<div>\n",
       "<style scoped>\n",
       "    .dataframe tbody tr th:only-of-type {\n",
       "        vertical-align: middle;\n",
       "    }\n",
       "\n",
       "    .dataframe tbody tr th {\n",
       "        vertical-align: top;\n",
       "    }\n",
       "\n",
       "    .dataframe thead th {\n",
       "        text-align: right;\n",
       "    }\n",
       "</style>\n",
       "<table border=\"1\" class=\"dataframe\">\n",
       "  <thead>\n",
       "    <tr style=\"text-align: right;\">\n",
       "      <th></th>\n",
       "      <th>client_email</th>\n",
       "      <th>client_phone</th>\n",
       "      <th>payment_date</th>\n",
       "      <th>last_date</th>\n",
       "      <th>total_value</th>\n",
       "      <th>churn_time</th>\n",
       "      <th>frequency</th>\n",
       "      <th>M</th>\n",
       "      <th>F</th>\n",
       "      <th>R</th>\n",
       "    </tr>\n",
       "  </thead>\n",
       "  <tbody>\n",
       "  </tbody>\n",
       "</table>\n",
       "</div>"
      ],
      "text/plain": [
       "Empty DataFrame\n",
       "Columns: [client_email, client_phone, payment_date, last_date, total_value, churn_time, frequency, M, F, R]\n",
       "Index: []"
      ]
     },
     "execution_count": 42,
     "metadata": {},
     "output_type": "execute_result"
    }
   ],
   "source": [
    "# найдем самых крупных и верных клиентов, таких 498 (4%)\n",
    "top_raw = df_rfm.loc[df_rfm ['M'] == 1]\n",
    "top_raw_1 = top_raw.loc[top_raw ['R'] == 1]\n",
    "top = top_raw_1.loc[top_raw_1 ['F'] == 1]\n",
    "top.head(0)"
   ]
  },
  {
   "cell_type": "code",
   "execution_count": 43,
   "metadata": {},
   "outputs": [
    {
     "data": {
      "text/html": [
       "<div>\n",
       "<style scoped>\n",
       "    .dataframe tbody tr th:only-of-type {\n",
       "        vertical-align: middle;\n",
       "    }\n",
       "\n",
       "    .dataframe tbody tr th {\n",
       "        vertical-align: top;\n",
       "    }\n",
       "\n",
       "    .dataframe thead th {\n",
       "        text-align: right;\n",
       "    }\n",
       "</style>\n",
       "<table border=\"1\" class=\"dataframe\">\n",
       "  <thead>\n",
       "    <tr style=\"text-align: right;\">\n",
       "      <th></th>\n",
       "      <th>client_email</th>\n",
       "      <th>client_phone</th>\n",
       "      <th>payment_date</th>\n",
       "      <th>last_date</th>\n",
       "      <th>total_value</th>\n",
       "      <th>churn_time</th>\n",
       "      <th>frequency</th>\n",
       "      <th>M</th>\n",
       "      <th>F</th>\n",
       "      <th>R</th>\n",
       "    </tr>\n",
       "  </thead>\n",
       "  <tbody>\n",
       "  </tbody>\n",
       "</table>\n",
       "</div>"
      ],
      "text/plain": [
       "Empty DataFrame\n",
       "Columns: [client_email, client_phone, payment_date, last_date, total_value, churn_time, frequency, M, F, R]\n",
       "Index: []"
      ]
     },
     "execution_count": 43,
     "metadata": {},
     "output_type": "execute_result"
    }
   ],
   "source": [
    "# найдем самых верных клиентов, которые покупают не часто, но на большую сумму \n",
    "top2_raw = df_rfm.loc[df_rfm ['M'] == 1]\n",
    "top2_raw_1 = top_raw.loc[top_raw ['R'] == 1]\n",
    "top2 = top_raw_1.loc[top_raw_1 ['F'] == 2]\n",
    "top2.head(0)"
   ]
  }
 ],
 "metadata": {
  "kernelspec": {
   "display_name": "Python 3",
   "language": "python",
   "name": "python3"
  },
  "language_info": {
   "codemirror_mode": {
    "name": "ipython",
    "version": 3
   },
   "file_extension": ".py",
   "mimetype": "text/x-python",
   "name": "python",
   "nbconvert_exporter": "python",
   "pygments_lexer": "ipython3",
   "version": "3.8.5"
  }
 },
 "nbformat": 4,
 "nbformat_minor": 4
}
